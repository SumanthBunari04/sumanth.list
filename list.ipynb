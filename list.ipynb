{
 "cells": [
  {
   "cell_type": "markdown",
   "id": "2745c44f-2b42-4220-ae43-fbad074ee49c",
   "metadata": {},
   "source": [
    "# Create list"
   ]
  },
  {
   "cell_type": "markdown",
   "id": "8f5a1209-318f-4f32-9dc9-d1d0cc5466d6",
   "metadata": {},
   "source": [
    "A list is a data structure in Python that is a mutable, or changeable, ordered sequence of elements.\n",
    "Each element or value that is inside of a list is called an item.\n",
    "Lists are defined by having values between square brackets [ ]."
   ]
  },
  {
   "cell_type": "markdown",
   "id": "e0eddd32-4b66-45a0-b399-7d82a2fce8c8",
   "metadata": {},
   "source": [
    "#### examples"
   ]
  },
  {
   "cell_type": "code",
   "execution_count": 2,
   "id": "90a07d34-aa44-4225-965c-d85e3cf152de",
   "metadata": {},
   "outputs": [
    {
     "name": "stdout",
     "output_type": "stream",
     "text": [
      "['sumanth', 'sai', 'bunari']\n",
      "['name', 1998, (18+29j)]\n",
      "[1782, 43984, 5345, 7357, 32]\n"
     ]
    }
   ],
   "source": [
    "a = [\"sumanth\", \"sai\", \"bunari\"]\n",
    "print(a);\n",
    "\n",
    "b = [\"name\", 1998, 18+29j]\n",
    "print(b);\n",
    "\n",
    "c = [1782, 43984, 5345, 7357, 32]\n",
    "print(c);"
   ]
  },
  {
   "cell_type": "markdown",
   "id": "665ac390-dbf9-4d9b-b761-a235a0ae1d9d",
   "metadata": {},
   "source": [
    "# Academy data science, data analyst, business analyst, full stack java, full stack python, salseforce, cad, data management, aws, bcp access each element 1by1 (+)possitive,(-)negative."
   ]
  },
  {
   "cell_type": "code",
   "execution_count": 24,
   "id": "02e29455-de51-4ecf-8f3c-ffccdf45c44c",
   "metadata": {},
   "outputs": [
    {
     "name": "stdout",
     "output_type": "stream",
     "text": [
      "vishnu\n",
      "hanuman\n",
      "kalki\n",
      "shiva\n",
      "ganesh\n",
      "ram\n",
      "narasimha\n",
      "krishna\n",
      "['ganesh', 'hanuman', 'narasimha', 'ram', 'krishna']\n",
      "['vishnu', 'ganesh']\n",
      "[]\n"
     ]
    }
   ],
   "source": [
    "#acess list elements using possitive slicing\n",
    "gods = [\"shiva\", \"vishnu\", \"ganesh\", \"hanuman\", \"narasimha\", \"ram\", \"krishna\", \"kalki\"]\n",
    "print(gods[1]);\n",
    "print(gods[3]);\n",
    "print(gods[7]);\n",
    "print(gods[0]);\n",
    "\n",
    "#acess elements using negative slicing\n",
    "gods = [\"shiva\", \"vishnu\", \"ganesh\", \"hanuman\", \"narasimha\", \"ram\", \"krishna\", \"kalki\"]\n",
    "print(gods[-6]);\n",
    "print(gods[-3]);\n",
    "print(gods[-4]);\n",
    "print(gods[-2]);\n",
    "\n",
    "#Accessing group of elements\n",
    "print(gods[2:7]);\n",
    "print(gods[1:3]);\n",
    "print(gods[-4:-7]);"
   ]
  },
  {
   "cell_type": "markdown",
   "id": "591a0a86-9c30-48e9-8bff-b416a06dc348",
   "metadata": {},
   "source": [
    "# Create list with 5 items & modify by index and slicing"
   ]
  },
  {
   "cell_type": "code",
   "execution_count": 21,
   "id": "21d392c5-6c98-4dd6-b34d-dd7b4f820536",
   "metadata": {},
   "outputs": [
    {
     "name": "stdout",
     "output_type": "stream",
     "text": [
      "[20, 'Hanuman', 129.423, 'ABCD', 'w']\n",
      "[20, 'Hanuman', 'ram', 'krishna', 'w']\n"
     ]
    }
   ],
   "source": [
    "sumanth = [1098, \"Hanuman\", 129.423, \"ABCD\", 'w']\n",
    "\n",
    "#modifying the list by index\n",
    "sumanth[0]=20\n",
    "print(sumanth);\n",
    "\n",
    "#Modifying the list by slicing\n",
    "sumanth[2:4] = [\"ram\",\"krishna\"]\n",
    "print(sumanth);"
   ]
  },
  {
   "cell_type": "markdown",
   "id": "a3cccb05-74cb-4072-a72e-eb902e88f32a",
   "metadata": {},
   "source": [
    "# Create words in list"
   ]
  },
  {
   "cell_type": "code",
   "execution_count": 23,
   "id": "5caa5de7-9c78-4cff-9a79-0691a93247ea",
   "metadata": {},
   "outputs": [
    {
     "name": "stdout",
     "output_type": "stream",
     "text": [
      "[1098, 'Hanuman', 129.423, 'ABCD', 'w', 'shiva', 'vishnu', 'ganesh', 'narasimha', 'ram', 'krishna', 'kalki', 'sumanth', 'sai', 'bunari', 47621, 2321, 21.34, 'a', 'D']\n"
     ]
    }
   ],
   "source": [
    "list = [1098, \"Hanuman\", 129.423, \"ABCD\", 'w', \"shiva\", \"vishnu\", \"ganesh\", \"narasimha\", \"ram\", \"krishna\", \"kalki\", \"sumanth\", \"sai\", \"bunari\", 47621, 2321, 21.34, 'a', 'D']\n",
    "print(list);"
   ]
  },
  {
   "cell_type": "markdown",
   "id": "f2b74509-169d-4aa6-9fc8-7cf85f629ffd",
   "metadata": {},
   "source": [
    "# List Methods"
   ]
  },
  {
   "cell_type": "markdown",
   "id": "6dc83d17-108d-4d2c-ac77-7823251ad872",
   "metadata": {},
   "source": [
    "### 1. Append(): adding the element to the end of the list\n",
    "\n"
   ]
  },
  {
   "cell_type": "code",
   "execution_count": 27,
   "id": "fd922e36-65f2-4e07-a9f8-50d68a953921",
   "metadata": {},
   "outputs": [
    {
     "name": "stdout",
     "output_type": "stream",
     "text": [
      "[1231, 232, 323, 4534, 5635, 4542, 4343]\n"
     ]
    }
   ],
   "source": [
    "a = [1231,232,323,4534,5635,4542]\n",
    "a.append(4343)\n",
    "print(a);"
   ]
  },
  {
   "cell_type": "markdown",
   "id": "bc20b857-a384-4598-8759-923e64cc384a",
   "metadata": {},
   "source": [
    "### 2. Extend(): adding each element at the end"
   ]
  },
  {
   "cell_type": "code",
   "execution_count": 30,
   "id": "337a76e7-f207-470e-ab3c-df48cd51f018",
   "metadata": {},
   "outputs": [
    {
     "name": "stdout",
     "output_type": "stream",
     "text": [
      "[1098, 'Hanuman', 7923]\n"
     ]
    }
   ],
   "source": [
    "sumanth = [1098, \"Hanuman\"]\n",
    "sai = [7923]\n",
    "sumanth.extend(sai)\n",
    "print(sumanth);"
   ]
  },
  {
   "cell_type": "markdown",
   "id": "4a71710c-f008-4f51-b96d-02b944023fd6",
   "metadata": {},
   "source": [
    "### 3. Insert(): Inserts a given element at a given index in a list."
   ]
  },
  {
   "cell_type": "code",
   "execution_count": 38,
   "id": "36068851-847e-4eba-b73a-1676dfa42043",
   "metadata": {},
   "outputs": [
    {
     "name": "stdout",
     "output_type": "stream",
     "text": [
      "['banana', 'apple', 'cherry', 'grape']\n"
     ]
    }
   ],
   "source": [
    "fruit = [\"banana\",\"cherry\",\"grape\"] \n",
    "fruit.insert(1,\"apple\") \n",
    "print(fruit);"
   ]
  },
  {
   "cell_type": "markdown",
   "id": "94846d47-1b7e-4962-945d-5e10b307fb3f",
   "metadata": {},
   "source": [
    "### 4. Remove(): Removes a given element from the List. "
   ]
  },
  {
   "cell_type": "code",
   "execution_count": 34,
   "id": "e304cf24-cc5a-4c29-9bd2-51b587def327",
   "metadata": {},
   "outputs": [
    {
     "name": "stdout",
     "output_type": "stream",
     "text": [
      "['a', 'c', 'b']\n"
     ]
    }
   ],
   "source": [
    "lis = ['a','b','c','b']\n",
    "lis.remove(\"b\")\n",
    "print(lis);"
   ]
  },
  {
   "cell_type": "markdown",
   "id": "c7d28aad-dfb6-475a-b519-d48654a036a0",
   "metadata": {},
   "source": [
    "### 5. pop(): Removes and returns the last value from the List or the given index value."
   ]
  },
  {
   "cell_type": "code",
   "execution_count": 36,
   "id": "e5942b13-ade0-4bb5-98ee-c10c40fe7698",
   "metadata": {},
   "outputs": [
    {
     "name": "stdout",
     "output_type": "stream",
     "text": [
      "[1, 2, 3, 4, 5, 7, 9, 4]\n",
      "9\n"
     ]
    }
   ],
   "source": [
    "numbers = [1, 2, 3, 4, 5, 7, 9, 4]\n",
    "print (numbers);\n",
    "popped_element = numbers.pop(6)\n",
    "print(popped_element);"
   ]
  },
  {
   "cell_type": "markdown",
   "id": "4abcc837-7ad9-4f70-a73b-6683c4800af0",
   "metadata": {},
   "source": [
    "### 6. Index(): Returns the lowest index where the element appears. "
   ]
  },
  {
   "cell_type": "code",
   "execution_count": 39,
   "id": "d6072d31-aab0-4991-bbab-daa93ea5b1ec",
   "metadata": {},
   "outputs": [
    {
     "name": "stdout",
     "output_type": "stream",
     "text": [
      "['cat', 'dog', 'tiger']\n",
      "1\n"
     ]
    }
   ],
   "source": [
    "Animals= [\"cat\", \"dog\", \"tiger\"] \n",
    "print(Animals);\n",
    "x = Animals.index(\"dog\")\n",
    "print(x);"
   ]
  },
  {
   "cell_type": "markdown",
   "id": "292cd587-509c-4199-a6dc-b6d8046aad9d",
   "metadata": {},
   "source": [
    "### 7. Count(): These methods count the elements."
   ]
  },
  {
   "cell_type": "code",
   "execution_count": 45,
   "id": "6c1e5dbc-ced7-4954-a0da-51a5c7d0b8be",
   "metadata": {},
   "outputs": [
    {
     "name": "stdout",
     "output_type": "stream",
     "text": [
      "2\n"
     ]
    }
   ],
   "source": [
    "numbers = [2, 3, 2, 4, 2, 6, 7, 9, 6, 0, 2, 6, 4]\n",
    "count = numbers.count(4)\n",
    "print(count);"
   ]
  },
  {
   "cell_type": "markdown",
   "id": "3896471e-d04c-4f15-8288-77e2f3911493",
   "metadata": {},
   "source": [
    "### 8. Sort(): Sort a List in ascending, descending, or user-defined order."
   ]
  },
  {
   "cell_type": "code",
   "execution_count": 47,
   "id": "d50cfd7e-947e-4260-8b95-31355102bbfe",
   "metadata": {},
   "outputs": [
    {
     "name": "stdout",
     "output_type": "stream",
     "text": [
      "[0, 1, 2, 2, 2, 2, 3, 4, 4, 6, 6, 6, 7, 9]\n"
     ]
    }
   ],
   "source": [
    "numbers = [1, 2, 3, 2, 4, 2, 6, 7, 9, 6, 0, 2, 6, 4]\n",
    "numbers.sort()\n",
    "print (numbers);"
   ]
  },
  {
   "cell_type": "markdown",
   "id": "0c280265-d288-4314-9ce6-5be7aa2b9c2a",
   "metadata": {},
   "source": [
    "### 9. Reverse(): Reverses objects of the List in place."
   ]
  },
  {
   "cell_type": "code",
   "execution_count": 48,
   "id": "81ddfdce-79c5-4660-a0dd-e1b67921016b",
   "metadata": {},
   "outputs": [
    {
     "name": "stdout",
     "output_type": "stream",
     "text": [
      "[0, 6, 8, 4, 6, 2, 0, 6]\n"
     ]
    }
   ],
   "source": [
    "numbers = [ 6, 0, 2, 6, 4, 8, 6, 0]\n",
    "numbers.reverse()\n",
    "print (numbers);"
   ]
  },
  {
   "cell_type": "markdown",
   "id": "fa731697-e1ee-43a6-a1b9-f0eb3e5da559",
   "metadata": {},
   "source": [
    "### 10. min(): returns the smallest of the values or the smallest item in an iterable passed as its parameter."
   ]
  },
  {
   "cell_type": "code",
   "execution_count": 49,
   "id": "309c7128-116c-45d7-b6a1-f7dc53df4c64",
   "metadata": {},
   "outputs": [
    {
     "name": "stdout",
     "output_type": "stream",
     "text": [
      "21\n"
     ]
    }
   ],
   "source": [
    "numbers = [23,25,65,21,98]\n",
    "print(min(numbers));"
   ]
  },
  {
   "cell_type": "markdown",
   "id": "66f17d00-73b2-4f16-a523-c76d8dd8b2ab",
   "metadata": {},
   "source": [
    "### 11. max(): returns the largest item in an iterable or the largest of two or more arguments."
   ]
  },
  {
   "cell_type": "code",
   "execution_count": 55,
   "id": "ead37edf-fb34-4b37-80d4-f50ed8b0e38e",
   "metadata": {},
   "outputs": [
    {
     "name": "stdout",
     "output_type": "stream",
     "text": [
      "845\n",
      "sumanth\n"
     ]
    }
   ],
   "source": [
    "#example1\n",
    "var1 = 434\n",
    "var2 = 845\n",
    "var3 = 224\n",
    " \n",
    "max_val = max(var1, var2, var3)\n",
    "print(max_val);\n",
    "\n",
    "\n",
    "#example2\n",
    "var1 = \"sai\"\n",
    "var2 = \"sumanth\"\n",
    "var3 = \"bunari\"\n",
    " \n",
    "max_val = max(var1, var2, var3)\n",
    "print(max_val);"
   ]
  },
  {
   "cell_type": "markdown",
   "id": "79c228f7-65b4-4833-b838-9aeb790987e7",
   "metadata": {},
   "source": [
    "### 12. Copy(): It returns a shallow copy of a list."
   ]
  },
  {
   "cell_type": "code",
   "execution_count": 57,
   "id": "001bcc95-5779-4461-b55b-2f8c1d454261",
   "metadata": {},
   "outputs": [
    {
     "name": "stdout",
     "output_type": "stream",
     "text": [
      "li2 ID:  4452498432 Value:  [1, 2, [3, 5], 4]\n",
      "li3 ID:  4452492672 Value:  [1, 2, [3, 5], 4]\n"
     ]
    }
   ],
   "source": [
    "import copy\n",
    "li1 = [1, 2, [3, 5], 4]\n",
    "li2 = copy.copy(li1)\n",
    "print(\"li2 ID: \", id(li2), \"Value: \", li2);\n",
    "li3 = copy.deepcopy(li1)\n",
    "print(\"li3 ID: \", id(li3), \"Value: \", li3);"
   ]
  },
  {
   "cell_type": "markdown",
   "id": "4cdf1cf0-d5e2-4096-a817-9c33a5ea9d4e",
   "metadata": {},
   "source": [
    "### 13. Clear(): This method is used for removing all items from the list."
   ]
  },
  {
   "cell_type": "code",
   "execution_count": 60,
   "id": "83d33f30-e6c7-40e1-a89d-9c9d248f75d3",
   "metadata": {},
   "outputs": [
    {
     "name": "stdout",
     "output_type": "stream",
     "text": [
      "[]\n"
     ]
    }
   ],
   "source": [
    "lis = [1, 2, 3]\n",
    "lis.clear()\n",
    "print(lis);"
   ]
  },
  {
   "cell_type": "markdown",
   "id": "34ea9c52-90a1-4bb7-b0b4-a68437596180",
   "metadata": {},
   "source": [
    "### 14. Len(): This function returns the length of list."
   ]
  },
  {
   "cell_type": "code",
   "execution_count": 61,
   "id": "c1c0683e-2202-49cf-8f9a-98004b087d5d",
   "metadata": {},
   "outputs": [
    {
     "name": "stdout",
     "output_type": "stream",
     "text": [
      "10\n"
     ]
    }
   ],
   "source": [
    "List = [1, 2, 3, 1, 2, 1, 2, 3, 2, 1] \n",
    "print(len(List));"
   ]
  },
  {
   "cell_type": "code",
   "execution_count": null,
   "id": "ae6ebfb4-9ba2-42e8-93a4-746f1b96463e",
   "metadata": {},
   "outputs": [],
   "source": []
  }
 ],
 "metadata": {
  "kernelspec": {
   "display_name": "Python 3 (ipykernel)",
   "language": "python",
   "name": "python3"
  },
  "language_info": {
   "codemirror_mode": {
    "name": "ipython",
    "version": 3
   },
   "file_extension": ".py",
   "mimetype": "text/x-python",
   "name": "python",
   "nbconvert_exporter": "python",
   "pygments_lexer": "ipython3",
   "version": "3.11.7"
  }
 },
 "nbformat": 4,
 "nbformat_minor": 5
}
